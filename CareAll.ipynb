{
 "cells": [
  {
   "cell_type": "code",
   "execution_count": 15,
   "metadata": {},
   "outputs": [],
   "source": [
    "class Retiree:\n",
    "    retirees = []\n",
    "    def __init__(self,name,fund):\n",
    "        self.name=name\n",
    "        self.fund=fund\n",
    "        self.rating = []\n",
    "        self.review = []\n",
    "        self.retirees.append(self)\n",
    "    def rating(self,rating):\n",
    "        self.rating=rating\n",
    "    def review(self,review):\n",
    "        self.review=review\n",
    "        \n",
    "    def selectYoung(self,young):\n",
    "        self.young=young\n",
    "        if self not in self.young.retiree:\n",
    "            YoungCare.assignRetiree(young,self)\n",
    "        else:\n",
    "            print(\"younger is already assign\")\n",
    "    def printNameOfYoungCareTacker(self):\n",
    "        print(\"My young care-tacker is \" + self.young.name)"
   ]
  },
  {
   "cell_type": "code",
   "execution_count": 14,
   "metadata": {},
   "outputs": [],
   "source": [
    "class YoungCare:\n",
    "    youngs = []\n",
    "    def __init__(self,name,price):\n",
    "        self.name=name\n",
    "        self.price=price\n",
    "        self.count=0\n",
    "        self.rating = []\n",
    "        self.review = []\n",
    "        self.retiree=[]\n",
    "        self.youngs.append(self)\n",
    "        \n",
    "    def rating(self,rate):\n",
    "        self.rate=rate\n",
    "        Retiree.rate.append(rate)\n",
    "        \n",
    "    def review(self,review):\n",
    "        self.review=review\n",
    "        \n",
    "    def assignRetiree(self,r):\n",
    "        if self.price > r.fund:\n",
    "            print(\"Sorry, Insufficient funds\")\n",
    "            return\n",
    "        if self.count < 4:\n",
    "            self.count+=1\n",
    "            self.retiree.append(r)\n",
    "            print(self.name + \" will now take care of you!\")\n",
    "        else:\n",
    "            print(\"Maximum Retiree limit reached! Sorry\")\n",
    "            \n",
    "    def myRetireeAssign(self):\n",
    "        print(\"Currently I am tacking care of : \")\n",
    "        for x in self.retiree:\n",
    "            print(x.name)"
   ]
  },
  {
   "cell_type": "markdown",
   "metadata": {},
   "source": [
    "# Testing the Aplication"
   ]
  },
  {
   "cell_type": "code",
   "execution_count": 3,
   "metadata": {},
   "outputs": [
    {
     "data": {
      "text/plain": [
       "'r1 = Retiree(\"Ramurthy\", 5000)\\nr2 = Retiree(\"Nirmala\", 6500)\\nr3 = Retiree(\"Amrutha\", 1500)\\nr4 = Retiree(\"Roja\", 4000)\\nr5 = Retiree(\"Viswa\", 500)\\nr6 = Retiree(\"Mansoor\", 1100)\\n\\nyc1 = YoungCare(\"Naseer\",1600)\\nr1.selectYoung(yc1)\\nr2.selectYoung(yc1)\\nr3.selectYoung(yc1)\\nr4.selectYoung(yc1)\\n\\nr1.printNameOfYoungCareTacker()\\n\\nyc1.myRetireeAssign()\\n\\nr5.selectYoung(yc1)\\nr6.selectYoung(yc1)'"
      ]
     },
     "execution_count": 3,
     "metadata": {},
     "output_type": "execute_result"
    }
   ],
   "source": [
    "\"\"\"r1 = Retiree(\"Ramurthy\", 5000)\n",
    "r2 = Retiree(\"Nirmala\", 6500)\n",
    "r3 = Retiree(\"Amrutha\", 1500)\n",
    "r4 = Retiree(\"Roja\", 4000)\n",
    "r5 = Retiree(\"Viswa\", 500)\n",
    "r6 = Retiree(\"Mansoor\", 1100)\n",
    "\n",
    "yc1 = YoungCare(\"Naseer\",1600)\n",
    "r1.selectYoung(yc1)\n",
    "r2.selectYoung(yc1)\n",
    "r3.selectYoung(yc1)\n",
    "r4.selectYoung(yc1)\n",
    "\n",
    "r1.printNameOfYoungCareTacker()\n",
    "\n",
    "yc1.myRetireeAssign()\n",
    "\n",
    "r5.selectYoung(yc1)\n",
    "r6.selectYoung(yc1)\"\"\""
   ]
  },
  {
   "cell_type": "code",
   "execution_count": 16,
   "metadata": {},
   "outputs": [],
   "source": [
    "r1 = Retiree(\"nana\",10000)\n",
    "r2 = Retiree (\"nani\", 12000)\n",
    "r3 = Retiree(\"dada\",9000)\n",
    "r4 = Retiree(\"dadi\",13000)\n",
    "r5 = Retiree(\"khala\",5000)\n",
    "r6 = Retiree(\"khalu\",8000)\n",
    "r7 = Retiree(\"dadu\",30000)"
   ]
  },
  {
   "cell_type": "code",
   "execution_count": 17,
   "metadata": {},
   "outputs": [],
   "source": [
    "ayaan = YoungCare(\"ayaan\",9000)\n",
    "irfan = YoungCare(\"irfan\",7000)\n",
    "owais = YoungCare(\"owais\",4000)"
   ]
  },
  {
   "cell_type": "code",
   "execution_count": 6,
   "metadata": {},
   "outputs": [
    {
     "name": "stdout",
     "output_type": "stream",
     "text": [
      "elder is already assign\n"
     ]
    }
   ],
   "source": [
    "r1.selectYoung(ayaan)"
   ]
  },
  {
   "cell_type": "code",
   "execution_count": 18,
   "metadata": {},
   "outputs": [
    {
     "name": "stdout",
     "output_type": "stream",
     "text": [
      "ayaan will now take care of you!\n",
      "ayaan will now take care of you!\n",
      "Sorry, Insufficient funds\n",
      "ayaan will now take care of you!\n",
      "ayaan will now take care of you!\n",
      "Sorry, Insufficient funds\n",
      "Maximum Retiree limit reached! Sorry\n"
     ]
    }
   ],
   "source": [
    "#r2.selectYoung(ayaan)\n",
    "#r3.selectYoung(ayaan)\n",
    "#r4.selectYoung(ayaan)\n",
    "#r6.selectYoung(ayaan)\n",
    "r1.selectYoung(ayaan)\n",
    "r2.selectYoung(ayaan)\n",
    "r5.selectYoung(ayaan)\n",
    "r3.selectYoung(ayaan)\n",
    "r4.selectYoung(ayaan)\n",
    "\n",
    "r6.selectYoung(ayaan)\n",
    "r7.selectYoung(ayaan)"
   ]
  },
  {
   "cell_type": "code",
   "execution_count": 12,
   "metadata": {},
   "outputs": [
    {
     "name": "stdout",
     "output_type": "stream",
     "text": [
      "{'name': 'nana', 'fund': 10000, 'young': <__main__.YoungCare object at 0x05CFC170>}\n",
      "{'name': 'nani', 'fund': 12000, 'young': <__main__.YoungCare object at 0x05CFC170>}\n",
      "{'name': 'dada', 'fund': 9000, 'young': <__main__.YoungCare object at 0x05CFC170>}\n",
      "{'name': 'dadi', 'fund': 13000, 'young': <__main__.YoungCare object at 0x05CFC170>}\n",
      "{'name': 'khala', 'fund': 5000, 'young': <__main__.YoungCare object at 0x05CFC170>}\n",
      "{'name': 'khalu', 'fund': 8000, 'young': <__main__.YoungCare object at 0x05CFC170>}\n",
      "{'name': 'dadu', 'fund': 30000, 'young': <__main__.YoungCare object at 0x05CFC170>}\n"
     ]
    }
   ],
   "source": [
    "for retiree in Retiree.retirees:\n",
    "    print(retiree.__dict__)"
   ]
  },
  {
   "cell_type": "code",
   "execution_count": 13,
   "metadata": {},
   "outputs": [
    {
     "name": "stdout",
     "output_type": "stream",
     "text": [
      "{'name': 'ayaan', 'price': 9000, 'count': 4, 'retiree': [<__main__.Retiree object at 0x05CFC290>, <__main__.Retiree object at 0x05CFC250>, <__main__.Retiree object at 0x05CFC2F0>, <__main__.Retiree object at 0x05CFC270>]}\n",
      "{'name': 'irfan', 'price': 7000, 'count': 0, 'retiree': []}\n",
      "{'name': 'owais', 'price': 4000, 'count': 0, 'retiree': []}\n",
      "{'name': 'nana', 'fund': 10000, 'young': <__main__.YoungCare object at 0x05CFC170>}\n",
      "{'name': 'nani', 'fund': 12000, 'young': <__main__.YoungCare object at 0x05CFC170>}\n",
      "{'name': 'dada', 'fund': 9000, 'young': <__main__.YoungCare object at 0x05CFC170>}\n",
      "{'name': 'dadi', 'fund': 13000, 'young': <__main__.YoungCare object at 0x05CFC170>}\n",
      "{'name': 'khala', 'fund': 5000, 'young': <__main__.YoungCare object at 0x05CFC170>}\n",
      "{'name': 'khalu', 'fund': 8000, 'young': <__main__.YoungCare object at 0x05CFC170>}\n",
      "{'name': 'dadu', 'fund': 30000, 'young': <__main__.YoungCare object at 0x05CFC170>}\n"
     ]
    }
   ],
   "source": [
    "for younger in YoungCare.youngs:\n",
    "    print(younger.__dict__)\n",
    "    \n",
    "for elder in Retiree.retirees:\n",
    "    print(elder.__dict__)"
   ]
  }
 ],
 "metadata": {
  "kernelspec": {
   "display_name": "Python 3",
   "language": "python",
   "name": "python3"
  },
  "language_info": {
   "codemirror_mode": {
    "name": "ipython",
    "version": 3
   },
   "file_extension": ".py",
   "mimetype": "text/x-python",
   "name": "python",
   "nbconvert_exporter": "python",
   "pygments_lexer": "ipython3",
   "version": "3.7.6"
  }
 },
 "nbformat": 4,
 "nbformat_minor": 4
}
